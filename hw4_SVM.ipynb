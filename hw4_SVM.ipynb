{
 "cells": [
  {
   "cell_type": "code",
   "execution_count": 1,
   "metadata": {
    "collapsed": true
   },
   "outputs": [],
   "source": [
    "import pandas as pd\n",
    "import numpy as np"
   ]
  },
  {
   "cell_type": "markdown",
   "metadata": {},
   "source": [
    "# Import Data"
   ]
  },
  {
   "cell_type": "code",
   "execution_count": 2,
   "metadata": {
    "collapsed": false
   },
   "outputs": [],
   "source": [
    "class ClassData():\n",
    "    class_no = -1\n",
    "    data = None\n",
    "    target = None\n",
    "    train_data = None\n",
    "    test_data = None \n",
    "    train_target = None\n",
    "    test_target = None \n",
    "    def __init__(self, class_no):\n",
    "        self.class_no = class_no\n",
    "    def __print__(self):\n",
    "        print('data.shape=',self.data.shape)\n",
    "        print('train_data.shape=',self.train_data.shape)\n",
    "        print('test_data.shape=',self.test_data.shape)\n",
    "        print('target.shape=',self.target.shape)\n",
    "        print('train_target.shape=',self.train_target.shape)\n",
    "        print('test_target.shape=',self.test_target.shape)\n",
    "        \n",
    "class DataLoader():  \n",
    "    def __init__(self, c=40, n=10, ts=2, rs=42): \n",
    "        \"\"\"\n",
    "        c: number of class\n",
    "        n: number of data in each class\n",
    "        ts: test_size in train_test_split\n",
    "        rs: random_state in train_test_split\n",
    "        \"\"\"\n",
    "        # fetch data\n",
    "        from sklearn.datasets import fetch_olivetti_faces\n",
    "        d = fetch_olivetti_faces()\n",
    "        # split data by class\n",
    "        dcdata, dctarget = np.array_split(d.data, c), np.array_split(d.target, c)\n",
    "        self.dclist = []\n",
    "        for i in range(c):\n",
    "            dc = ClassData(i)\n",
    "            dc.data = dcdata[i]\n",
    "            dc.target = dctarget[i]\n",
    "            self.dclist.append(dc)\n",
    "        # split data into train/test\n",
    "        from sklearn.model_selection import train_test_split\n",
    "        for i in range(c):\n",
    "            dc = self.dclist[i]\n",
    "            dc.train_data, dc.test_data = train_test_split(dc.data, test_size=ts,random_state=rs)\n",
    "            dc.train_target, dc.test_target = train_test_split(dc.target, test_size=ts,random_state=rs)\n",
    "        #recombine data\n",
    "        self.train_data = np.concatenate( [self.dclist[i].train_data for i in range(c)] )\n",
    "        self.test_data = np.concatenate( [self.dclist[i].test_data for i in range(c)] )\n",
    "        self.train_target = np.concatenate( [self.dclist[i].train_target for i in range(c)] )\n",
    "        self.test_target = np.concatenate( [self.dclist[i].test_target for i in range(c)] )\n",
    "\n",
    "    def __print__(self):\n",
    "        print('train_data.shape=',self.train_data.shape)\n",
    "        print('test_data.shape=',self.test_data.shape)\n",
    "        print('train_target.shape=',self.train_target.shape)\n",
    "        print('test_target.shape=',self.test_target.shape)      "
   ]
  },
  {
   "cell_type": "code",
   "execution_count": 3,
   "metadata": {
    "collapsed": false
   },
   "outputs": [],
   "source": [
    "dl = DataLoader()"
   ]
  },
  {
   "cell_type": "code",
   "execution_count": 4,
   "metadata": {
    "collapsed": false
   },
   "outputs": [
    {
     "name": "stdout",
     "output_type": "stream",
     "text": [
      "train_data.shape= (320, 4096)\n",
      "test_data.shape= (80, 4096)\n",
      "train_target.shape= (320,)\n",
      "test_target.shape= (80,)\n"
     ]
    }
   ],
   "source": [
    "dl.__print__()"
   ]
  },
  {
   "cell_type": "markdown",
   "metadata": {},
   "source": [
    "# SVM"
   ]
  },
  {
   "cell_type": "code",
   "execution_count": 5,
   "metadata": {
    "collapsed": true
   },
   "outputs": [],
   "source": [
    "from sklearn.svm import SVC"
   ]
  },
  {
   "cell_type": "code",
   "execution_count": 6,
   "metadata": {
    "collapsed": true
   },
   "outputs": [],
   "source": [
    "svc = SVC()"
   ]
  },
  {
   "cell_type": "code",
   "execution_count": 7,
   "metadata": {
    "collapsed": false
   },
   "outputs": [
    {
     "data": {
      "text/plain": [
       "SVC(C=1.0, cache_size=200, class_weight=None, coef0=0.0,\n",
       "  decision_function_shape=None, degree=3, gamma='auto', kernel='rbf',\n",
       "  max_iter=-1, probability=False, random_state=None, shrinking=True,\n",
       "  tol=0.001, verbose=False)"
      ]
     },
     "execution_count": 7,
     "metadata": {},
     "output_type": "execute_result"
    }
   ],
   "source": [
    "svc.fit(dl.train_data,dl.train_target)"
   ]
  },
  {
   "cell_type": "code",
   "execution_count": 8,
   "metadata": {
    "collapsed": false
   },
   "outputs": [
    {
     "data": {
      "text/plain": [
       "0.8125"
      ]
     },
     "execution_count": 8,
     "metadata": {},
     "output_type": "execute_result"
    }
   ],
   "source": [
    "svc.score(dl.test_data,dl.test_target)"
   ]
  },
  {
   "cell_type": "code",
   "execution_count": 9,
   "metadata": {
    "collapsed": false
   },
   "outputs": [
    {
     "data": {
      "text/plain": [
       "0.875"
      ]
     },
     "execution_count": 9,
     "metadata": {},
     "output_type": "execute_result"
    }
   ],
   "source": [
    "svc1 = SVC(C=10)\n",
    "svc1.fit(dl.train_data,dl.train_target)\n",
    "svc1.score(dl.test_data,dl.test_target)"
   ]
  },
  {
   "cell_type": "code",
   "execution_count": 39,
   "metadata": {
    "collapsed": false
   },
   "outputs": [
    {
     "data": {
      "text/plain": [
       "0.96250000000000002"
      ]
     },
     "execution_count": 39,
     "metadata": {},
     "output_type": "execute_result"
    }
   ],
   "source": [
    "svc3 = SVC(C=25, tol=1e-1)\n",
    "svc3.fit(dl.train_data,dl.train_target)\n",
    "svc3.score(dl.test_data,dl.test_target)"
   ]
  },
  {
   "cell_type": "code",
   "execution_count": 40,
   "metadata": {
    "collapsed": false
   },
   "outputs": [
    {
     "data": {
      "text/plain": [
       "0.97499999999999998"
      ]
     },
     "execution_count": 40,
     "metadata": {},
     "output_type": "execute_result"
    }
   ],
   "source": [
    "svc2 = SVC(C=28, tol=1e-1)\n",
    "svc2.fit(dl.train_data,dl.train_target)\n",
    "svc2.score(dl.test_data,dl.test_target)"
   ]
  },
  {
   "cell_type": "code",
   "execution_count": 44,
   "metadata": {
    "collapsed": false
   },
   "outputs": [
    {
     "data": {
      "text/plain": [
       "GridSearchCV(cv=None, error_score='raise',\n",
       "       estimator=SVC(C=1.0, cache_size=200, class_weight=None, coef0=0.0,\n",
       "  decision_function_shape=None, degree=3, gamma='auto', kernel='rbf',\n",
       "  max_iter=-1, probability=False, random_state=0, shrinking=True,\n",
       "  tol=0.001, verbose=False),\n",
       "       fit_params={}, iid=True, n_jobs=1,\n",
       "       param_grid={'tol': (0.1, 1e-05), 'C': (1, 100)},\n",
       "       pre_dispatch='2*n_jobs', refit=True, return_train_score=True,\n",
       "       scoring=None, verbose=0)"
      ]
     },
     "execution_count": 44,
     "metadata": {},
     "output_type": "execute_result"
    }
   ],
   "source": [
    "from sklearn.model_selection import GridSearchCV\n",
    "parameters = {'C':(1,100), 'tol': (1e-1, 1e-5)}\n",
    "est = SVC(random_state = 0)\n",
    "clf = GridSearchCV(est, parameters)\n",
    "clf.fit(dl.train_data, dl.train_target)"
   ]
  },
  {
   "cell_type": "code",
   "execution_count": 45,
   "metadata": {
    "collapsed": false
   },
   "outputs": [
    {
     "name": "stdout",
     "output_type": "stream",
     "text": [
      "0.925\n",
      "{'tol': 1e-05, 'C': 100}\n"
     ]
    }
   ],
   "source": [
    "print(clf.best_score_)\n",
    "print(clf.best_params_)"
   ]
  },
  {
   "cell_type": "markdown",
   "metadata": {},
   "source": [
    "# back up"
   ]
  }
 ],
 "metadata": {
  "anaconda-cloud": {},
  "kernelspec": {
   "display_name": "Python [conda root]",
   "language": "python",
   "name": "conda-root-py"
  },
  "language_info": {
   "codemirror_mode": {
    "name": "ipython",
    "version": 3
   },
   "file_extension": ".py",
   "mimetype": "text/x-python",
   "name": "python",
   "nbconvert_exporter": "python",
   "pygments_lexer": "ipython3",
   "version": "3.5.2"
  }
 },
 "nbformat": 4,
 "nbformat_minor": 1
}
