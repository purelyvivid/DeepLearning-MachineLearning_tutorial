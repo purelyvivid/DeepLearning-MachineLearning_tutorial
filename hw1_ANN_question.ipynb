{
 "cells": [
  {
   "cell_type": "markdown",
   "metadata": {},
   "source": [
    "# Homework_1_breast_cancer_prediction "
   ]
  },
  {
   "cell_type": "markdown",
   "metadata": {},
   "source": [
    "## Environment"
   ]
  },
  {
   "cell_type": "code",
   "execution_count": 1,
   "metadata": {
    "collapsed": false
   },
   "outputs": [
    {
     "name": "stdout",
     "output_type": "stream",
     "text": [
      "Python version: 3.5.2 |Anaconda 4.2.0 (64-bit)| (default, Jul  5 2016, 11:41:13) [MSC v.1900 64 bit (AMD64)]\n"
     ]
    }
   ],
   "source": [
    "import sys\n",
    "print('Python version:',sys.version)"
   ]
  },
  {
   "cell_type": "code",
   "execution_count": 2,
   "metadata": {
    "collapsed": false
   },
   "outputs": [
    {
     "name": "stderr",
     "output_type": "stream",
     "text": [
      "Using TensorFlow backend.\n"
     ]
    },
    {
     "name": "stdout",
     "output_type": "stream",
     "text": [
      "Toolkits:\n",
      "Numpy version: 1.13.1\n",
      "Tensorflow version: 1.0.1\n",
      "Keras version: 2.0.6\n",
      "Skikit-Learn version: 0.18.2\n"
     ]
    }
   ],
   "source": [
    "import numpy, tensorflow, keras, sklearn\n",
    "print('Toolkits:')\n",
    "print('Numpy version:',numpy.__version__)\n",
    "print('Tensorflow version:',tensorflow.__version__)\n",
    "print('Keras version:',keras.__version__)\n",
    "print('Skikit-Learn version:',sklearn.__version__)"
   ]
  },
  {
   "cell_type": "code",
   "execution_count": 3,
   "metadata": {
    "collapsed": false
   },
   "outputs": [],
   "source": [
    "from keras.models import Sequential\n",
    "from keras.layers import Dense"
   ]
  },
  {
   "cell_type": "markdown",
   "metadata": {},
   "source": [
    "## Load Data"
   ]
  },
  {
   "cell_type": "code",
   "execution_count": 4,
   "metadata": {
    "collapsed": false
   },
   "outputs": [],
   "source": [
    "from sklearn.datasets import load_breast_cancer\n",
    "X,y = load_breast_cancer(return_X_y=True)"
   ]
  },
  {
   "cell_type": "code",
   "execution_count": 5,
   "metadata": {
    "collapsed": true
   },
   "outputs": [],
   "source": [
    "from sklearn.model_selection import train_test_split\n",
    "x_train, x_test, y_train, y_test  = train_test_split(X, y, test_size=0.33, random_state=42)"
   ]
  },
  {
   "cell_type": "code",
   "execution_count": 6,
   "metadata": {
    "collapsed": false
   },
   "outputs": [
    {
     "name": "stdout",
     "output_type": "stream",
     "text": [
      "x_train.shape =  (381, 30)\n",
      "y_train.shape =  (381,)\n",
      "x_test.shape =  (188, 30)\n",
      "y_test.shape =  (188,)\n"
     ]
    }
   ],
   "source": [
    "# print_shape function\n",
    "print_shape = lambda str,arr:print(str+'.shape = ',arr.shape)\n",
    "print_shapes = lambda strs,arrs:[print_shape(str,arr) for str,arr in zip(strs,arrs)]\n",
    "data_names = ['x_train', 'y_train', 'x_test', 'y_test']\n",
    "_=print_shapes(data_names, [x_train, y_train, x_test, y_test])"
   ]
  },
  {
   "cell_type": "code",
   "execution_count": 7,
   "metadata": {
    "collapsed": false
   },
   "outputs": [],
   "source": [
    "def print_mean_std_per_col(arr):\n",
    "    for i in range(13):\n",
    "        print ('column {} : Mean = {:.2f}, STD = {:.2f}'.format(i,numpy.mean(arr[:,i]),numpy.std(arr[:,i])))"
   ]
  },
  {
   "cell_type": "code",
   "execution_count": 8,
   "metadata": {
    "collapsed": false
   },
   "outputs": [
    {
     "name": "stdout",
     "output_type": "stream",
     "text": [
      "column 0 : Mean = 14.19, STD = 3.58\n",
      "column 1 : Mean = 19.21, STD = 4.24\n",
      "column 2 : Mean = 92.34, STD = 24.60\n",
      "column 3 : Mean = 661.75, STD = 364.03\n",
      "column 4 : Mean = 0.10, STD = 0.01\n",
      "column 5 : Mean = 0.10, STD = 0.05\n",
      "column 6 : Mean = 0.09, STD = 0.08\n",
      "column 7 : Mean = 0.05, STD = 0.04\n",
      "column 8 : Mean = 0.18, STD = 0.03\n",
      "column 9 : Mean = 0.06, STD = 0.01\n",
      "column 10 : Mean = 0.41, STD = 0.29\n",
      "column 11 : Mean = 1.21, STD = 0.53\n",
      "column 12 : Mean = 2.89, STD = 2.14\n"
     ]
    }
   ],
   "source": [
    "print_mean_std_per_col(x_train)"
   ]
  },
  {
   "cell_type": "code",
   "execution_count": 9,
   "metadata": {
    "collapsed": false
   },
   "outputs": [],
   "source": [
    "# Normalization X\n",
    "Norm_col = lambda col:(col-numpy.mean(col))/numpy.std(col)\n",
    "def Norm(arr):\n",
    "    for i in range(arr.shape[1]):\n",
    "        arr[:,i] = Norm_col(arr[:,i])+5\n",
    "    return arr\n",
    "x_train, x_test = Norm(x_train), Norm(x_test)"
   ]
  },
  {
   "cell_type": "code",
   "execution_count": 10,
   "metadata": {
    "collapsed": false
   },
   "outputs": [
    {
     "name": "stdout",
     "output_type": "stream",
     "text": [
      "column 0 : Mean = 5.00, STD = 1.00\n",
      "column 1 : Mean = 5.00, STD = 1.00\n",
      "column 2 : Mean = 5.00, STD = 1.00\n",
      "column 3 : Mean = 5.00, STD = 1.00\n",
      "column 4 : Mean = 5.00, STD = 1.00\n",
      "column 5 : Mean = 5.00, STD = 1.00\n",
      "column 6 : Mean = 5.00, STD = 1.00\n",
      "column 7 : Mean = 5.00, STD = 1.00\n",
      "column 8 : Mean = 5.00, STD = 1.00\n",
      "column 9 : Mean = 5.00, STD = 1.00\n",
      "column 10 : Mean = 5.00, STD = 1.00\n",
      "column 11 : Mean = 5.00, STD = 1.00\n",
      "column 12 : Mean = 5.00, STD = 1.00\n"
     ]
    }
   ],
   "source": [
    "print_mean_std_per_col(x_train)"
   ]
  },
  {
   "cell_type": "code",
   "execution_count": 11,
   "metadata": {
    "collapsed": false
   },
   "outputs": [
    {
     "name": "stdout",
     "output_type": "stream",
     "text": [
      "x_train.shape =  (381, 30)\n",
      "y_train.shape =  (381, 2)\n",
      "x_test.shape =  (188, 30)\n",
      "y_test.shape =  (188, 2)\n"
     ]
    }
   ],
   "source": [
    "# Categorical Y\n",
    "from keras.utils import to_categorical\n",
    "y_train, y_test = to_categorical(y_train,2), to_categorical(y_test,2)\n",
    "_=print_shapes(data_names, [x_train, y_train, x_test, y_test])"
   ]
  },
  {
   "cell_type": "markdown",
   "metadata": {},
   "source": [
    "## Build Model"
   ]
  },
  {
   "cell_type": "code",
   "execution_count": 12,
   "metadata": {
    "collapsed": false
   },
   "outputs": [],
   "source": [
    "# build model\n",
    "model = Sequential()\n",
    "'''\n",
    "add your code here\n",
    "'''"
   ]
  },
  {
   "cell_type": "code",
   "execution_count": 13,
   "metadata": {
    "collapsed": false
   },
   "outputs": [],
   "source": [
    "# compile model\n",
    "'''\n",
    "add your code here\n",
    "'''"
   ]
  },
  {
   "cell_type": "code",
   "execution_count": 14,
   "metadata": {
    "collapsed": false
   },
   "outputs": [
    {
     "name": "stdout",
     "output_type": "stream",
     "text": [
      "Epoch 1/20\n",
      "381/381 [==============================] - 1s - loss: 0.6795 - acc: 0.6129     \n",
      "Epoch 2/20\n",
      "381/381 [==============================] - 0s - loss: 0.6684 - acc: 0.6194     \n",
      "Epoch 3/20\n",
      "381/381 [==============================] - 0s - loss: 0.6652 - acc: 0.6194     \n",
      "Epoch 4/20\n",
      "381/381 [==============================] - 0s - loss: 0.6610 - acc: 0.6194     \n",
      "Epoch 5/20\n",
      "381/381 [==============================] - 0s - loss: 0.6487 - acc: 0.6194     \n",
      "Epoch 6/20\n",
      "381/381 [==============================] - 0s - loss: 0.6183 - acc: 0.6706     \n",
      "Epoch 7/20\n",
      "381/381 [==============================] - 0s - loss: 0.5582 - acc: 0.7047     \n",
      "Epoch 8/20\n",
      "381/381 [==============================] - 0s - loss: 0.5168 - acc: 0.7533     \n",
      "Epoch 9/20\n",
      "381/381 [==============================] - 0s - loss: 0.4631 - acc: 0.7822     \n",
      "Epoch 10/20\n",
      "381/381 [==============================] - 0s - loss: 0.4499 - acc: 0.7979     \n",
      "Epoch 11/20\n",
      "381/381 [==============================] - 0s - loss: 0.4212 - acc: 0.8097     \n",
      "Epoch 12/20\n",
      "381/381 [==============================] - 0s - loss: 0.4171 - acc: 0.8150     \n",
      "Epoch 13/20\n",
      "381/381 [==============================] - 0s - loss: 0.3971 - acc: 0.8399     \n",
      "Epoch 14/20\n",
      "381/381 [==============================] - 0s - loss: 0.3985 - acc: 0.8320     \n",
      "Epoch 15/20\n",
      "381/381 [==============================] - 0s - loss: 0.3633 - acc: 0.8661     \n",
      "Epoch 16/20\n",
      "381/381 [==============================] - 0s - loss: 0.3339 - acc: 0.8530     \n",
      "Epoch 17/20\n",
      "381/381 [==============================] - 0s - loss: 0.3383 - acc: 0.8451     \n",
      "Epoch 18/20\n",
      "381/381 [==============================] - 0s - loss: 0.3405 - acc: 0.8556     \n",
      "Epoch 19/20\n",
      "381/381 [==============================] - 0s - loss: 0.3376 - acc: 0.8648     \n",
      "Epoch 20/20\n",
      "381/381 [==============================] - 0s - loss: 0.3204 - acc: 0.8766     \n"
     ]
    },
    {
     "data": {
      "text/plain": [
       "<keras.callbacks.History at 0x223e6820f28>"
      ]
     },
     "execution_count": 14,
     "metadata": {},
     "output_type": "execute_result"
    }
   ],
   "source": [
    "# fit model\n",
    "'''\n",
    "add your code here\n",
    "'''"
   ]
  },
  {
   "cell_type": "markdown",
   "metadata": {},
   "source": [
    "## Score Model"
   ]
  },
  {
   "cell_type": "code",
   "execution_count": 15,
   "metadata": {
    "collapsed": false
   },
   "outputs": [
    {
     "name": "stdout",
     "output_type": "stream",
     "text": [
      " 32/188 [====>.........................] - ETA: 0sacc: 86.70%\n"
     ]
    }
   ],
   "source": [
    "scores = model.evaluate(x_test, y_test)\n",
    "print(\"%s: %.2f%%\" % (model.metrics_names[1], scores[1]*100))\n"
   ]
  },
  {
   "cell_type": "code",
   "execution_count": null,
   "metadata": {
    "collapsed": true
   },
   "outputs": [],
   "source": []
  }
 ],
 "metadata": {
  "anaconda-cloud": {},
  "kernelspec": {
   "display_name": "Python [conda root]",
   "language": "python",
   "name": "conda-root-py"
  },
  "language_info": {
   "codemirror_mode": {
    "name": "ipython",
    "version": 3
   },
   "file_extension": ".py",
   "mimetype": "text/x-python",
   "name": "python",
   "nbconvert_exporter": "python",
   "pygments_lexer": "ipython3",
   "version": "3.5.2"
  }
 },
 "nbformat": 4,
 "nbformat_minor": 2
}
