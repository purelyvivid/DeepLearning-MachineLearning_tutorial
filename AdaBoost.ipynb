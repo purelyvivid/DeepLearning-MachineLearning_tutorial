{
 "cells": [
  {
   "cell_type": "markdown",
   "metadata": {},
   "source": [
    "# Implementation of AdaBoost classifier"
   ]
  },
  {
   "cell_type": "markdown",
   "metadata": {},
   "source": [
    "西瓜書p174"
   ]
  },
  {
   "cell_type": "code",
   "execution_count": 1,
   "metadata": {
    "collapsed": true
   },
   "outputs": [],
   "source": [
    "from sklearn.datasets import load_breast_cancer\n",
    "from sklearn import tree\n",
    "import numpy as np\n",
    " "
   ]
  },
  {
   "cell_type": "code",
   "execution_count": 2,
   "metadata": {},
   "outputs": [],
   "source": [
    "dataset = load_breast_cancer()\n",
    "T = 10"
   ]
  },
  {
   "cell_type": "code",
   "execution_count": 3,
   "metadata": {},
   "outputs": [
    {
     "name": "stdout",
     "output_type": "stream",
     "text": [
      "(569, 30)\n"
     ]
    }
   ],
   "source": [
    "nd , nf = dataset.data.shape\n",
    "D1 = np.array([1/float(nd)]*nd, dtype='float32')\n",
    "print (nd , nf )"
   ]
  },
  {
   "cell_type": "code",
   "execution_count": 4,
   "metadata": {},
   "outputs": [
    {
     "data": {
      "text/plain": [
       "array([-1,  1])"
      ]
     },
     "execution_count": 4,
     "metadata": {},
     "output_type": "execute_result"
    }
   ],
   "source": [
    "dataset.target[dataset.target==0] = -1\n",
    "np.unique(dataset.target)"
   ]
  },
  {
   "cell_type": "code",
   "execution_count": 5,
   "metadata": {
    "collapsed": true
   },
   "outputs": [],
   "source": [
    "def cal_acc(y_true, y_pred):\n",
    "    nd = y_true.shape[0]\n",
    "    acc_matrix = (y_true == y_pred)\n",
    "    n_acc = np.sum(acc_matrix) \n",
    "    acc_ratio = n_acc / float(nd)\n",
    "    return acc_ratio, acc_matrix"
   ]
  },
  {
   "cell_type": "code",
   "execution_count": 6,
   "metadata": {
    "collapsed": true
   },
   "outputs": [],
   "source": [
    "Ds = []\n",
    "Ds.append(D1)\n",
    "hs = [] \n",
    "alphas = []\n",
    "max_iter = 0"
   ]
  },
  {
   "cell_type": "code",
   "execution_count": 7,
   "metadata": {},
   "outputs": [
    {
     "name": "stdout",
     "output_type": "stream",
     "text": [
      "classifier 0\n",
      "('acc_ratio=', 0.9226713532513181)\n",
      "('alpha=', 1.2396043143366813)\n",
      " \n",
      "classifier 1\n",
      "('acc_ratio=', 0.91564147627416526)\n",
      "('alpha=', 1.1922745154227383)\n",
      " \n",
      "classifier 2\n",
      "('acc_ratio=', 0.68014059753954303)\n",
      "('alpha=', 0.37720900297649312)\n",
      " \n",
      "classifier 3\n",
      "('acc_ratio=', 0.73286467486818985)\n",
      "('alpha=', 0.50460285047626263)\n",
      " \n",
      "classifier 4\n",
      "('acc_ratio=', 0.87170474516695962)\n",
      "('alpha=', 0.95805824278826834)\n",
      " \n",
      "classifier 5\n",
      "('acc_ratio=', 0.82073813708260102)\n",
      "('alpha=', 0.76067822219231296)\n",
      " \n",
      "classifier 6\n",
      "('acc_ratio=', 0.55008787346221444)\n",
      "('alpha=', 0.10051287303029546)\n",
      " \n",
      "classifier 7\n",
      "('acc_ratio=', 0.55008787346221444)\n",
      "('alpha=', 0.10051287303029546)\n",
      " \n",
      "classifier 8\n",
      "('acc_ratio=', 0.55008787346221444)\n",
      "('alpha=', 0.10051287303029546)\n",
      " \n",
      "classifier 9\n",
      "('acc_ratio=', 0.47627416520210897)\n"
     ]
    }
   ],
   "source": [
    "for t in range(T):\n",
    "    print('classifier '+str(t))\n",
    "    h = tree.DecisionTreeClassifier(max_depth=1).fit(dataset.data,dataset.target, sample_weight=Ds[-1])\n",
    "    pred = h.predict(dataset.data) \n",
    "    acc_ratio, acc_matrix = cal_acc(dataset.target, pred)\n",
    "    e =  1 - acc_ratio\n",
    "    print('acc_ratio=',acc_ratio)\n",
    "    if e > 0.5: break # e will be larger and larger\n",
    "    max_iter+=1; hs.append(h)\n",
    "    alpha = 0.5*np.log((1-e)/e); alphas.append(alpha) \n",
    "    print('alpha=',alpha)\n",
    "    h_mul_f = np.ones_like(acc_matrix,dtype=int)\n",
    "    h_mul_f[acc_matrix==0] = -1\n",
    "    #print('np.unique(h_mul_f)=',np.unique(h_mul_f))\n",
    "    D = Ds[-1]*np.exp(-alpha*h_mul_f)\n",
    "    D = D/np.sum(D) ; Ds.append(D) \n",
    "    #print('np.sum(D)=',np.sum(D))\n",
    "    print(' ')\n",
    "       "
   ]
  },
  {
   "cell_type": "code",
   "execution_count": 8,
   "metadata": {},
   "outputs": [
    {
     "name": "stdout",
     "output_type": "stream",
     "text": [
      "After adding classifier 0\n",
      "total acc_ratio=0.922671353251\n",
      " \n",
      "After adding classifier 1\n",
      "total acc_ratio=0.922671353251\n",
      " \n",
      "After adding classifier 2\n",
      "total acc_ratio=0.964850615114\n",
      " \n",
      "After adding classifier 3\n",
      "total acc_ratio=0.959578207381\n",
      " \n",
      "After adding classifier 4\n",
      "total acc_ratio=0.929701230228\n",
      " \n",
      "After adding classifier 5\n",
      "total acc_ratio=0.971880492091\n",
      " \n",
      "After adding classifier 6\n",
      "total acc_ratio=0.971880492091\n",
      " \n",
      "After adding classifier 7\n",
      "total acc_ratio=0.970123022847\n",
      " \n",
      "After adding classifier 8\n",
      "total acc_ratio=0.971880492091\n",
      " \n"
     ]
    }
   ],
   "source": [
    "H = np.zeros_like(dataset.target, dtype='float32')\n",
    "for t in range(max_iter):\n",
    "    H += alphas[t]*hs[t].predict(dataset.data) \n",
    "    H_pred = np.sign(H)\n",
    "    H_acc , _ = cal_acc(dataset.target, H_pred)\n",
    "    print('After adding classifier '+str(t))\n",
    "    print('total acc_ratio='+str(H_acc))\n",
    "    print(' ')"
   ]
  },
  {
   "cell_type": "code",
   "execution_count": 9,
   "metadata": {
    "collapsed": true
   },
   "outputs": [],
   "source": [
    "import graphviz "
   ]
  },
  {
   "cell_type": "code",
   "execution_count": 10,
   "metadata": {},
   "outputs": [
    {
     "data": {
      "image/svg+xml": [
       "<?xml version=\"1.0\" encoding=\"UTF-8\" standalone=\"no\"?>\n",
       "<!DOCTYPE svg PUBLIC \"-//W3C//DTD SVG 1.1//EN\"\n",
       " \"http://www.w3.org/Graphics/SVG/1.1/DTD/svg11.dtd\">\n",
       "<!-- Generated by graphviz version 2.38.0 (20140413.2041)\n",
       " -->\n",
       "<!-- Title: Tree Pages: 1 -->\n",
       "<svg width=\"326pt\" height=\"165pt\"\n",
       " viewBox=\"0.00 0.00 325.50 165.00\" xmlns=\"http://www.w3.org/2000/svg\" xmlns:xlink=\"http://www.w3.org/1999/xlink\">\n",
       "<g id=\"graph0\" class=\"graph\" transform=\"scale(1 1) rotate(0) translate(4 161)\">\n",
       "<title>Tree</title>\n",
       "<polygon fill=\"white\" stroke=\"none\" points=\"-4,4 -4,-161 321.5,-161 321.5,4 -4,4\"/>\n",
       "<!-- 0 -->\n",
       "<g id=\"node1\" class=\"node\"><title>0</title>\n",
       "<polygon fill=\"none\" stroke=\"black\" points=\"233.5,-157 80.5,-157 80.5,-89 233.5,-89 233.5,-157\"/>\n",
       "<text text-anchor=\"middle\" x=\"157\" y=\"-141.8\" font-family=\"Times,serif\" font-size=\"14.00\">X[20] &lt;= 16.795</text>\n",
       "<text text-anchor=\"middle\" x=\"157\" y=\"-126.8\" font-family=\"Times,serif\" font-size=\"14.00\">gini = 0.4675</text>\n",
       "<text text-anchor=\"middle\" x=\"157\" y=\"-111.8\" font-family=\"Times,serif\" font-size=\"14.00\">samples = 569</text>\n",
       "<text text-anchor=\"middle\" x=\"157\" y=\"-96.8\" font-family=\"Times,serif\" font-size=\"14.00\">value = [0.3726, 0.6274]</text>\n",
       "</g>\n",
       "<!-- 1 -->\n",
       "<g id=\"node2\" class=\"node\"><title>1</title>\n",
       "<polygon fill=\"none\" stroke=\"black\" points=\"146,-53 0,-53 0,-0 146,-0 146,-53\"/>\n",
       "<text text-anchor=\"middle\" x=\"73\" y=\"-37.8\" font-family=\"Times,serif\" font-size=\"14.00\">gini = 0.159</text>\n",
       "<text text-anchor=\"middle\" x=\"73\" y=\"-22.8\" font-family=\"Times,serif\" font-size=\"14.00\">samples = 379</text>\n",
       "<text text-anchor=\"middle\" x=\"73\" y=\"-7.8\" font-family=\"Times,serif\" font-size=\"14.00\">value = [0.058, 0.6081]</text>\n",
       "</g>\n",
       "<!-- 0&#45;&gt;1 -->\n",
       "<g id=\"edge1\" class=\"edge\"><title>0&#45;&gt;1</title>\n",
       "<path fill=\"none\" stroke=\"black\" d=\"M127.621,-88.9485C119.489,-79.8005 110.662,-69.8697 102.522,-60.7126\"/>\n",
       "<polygon fill=\"black\" stroke=\"black\" points=\"105.137,-58.3855 95.8771,-53.2367 99.9048,-63.0361 105.137,-58.3855\"/>\n",
       "<text text-anchor=\"middle\" x=\"94.409\" y=\"-74.4936\" font-family=\"Times,serif\" font-size=\"14.00\">True</text>\n",
       "</g>\n",
       "<!-- 2 -->\n",
       "<g id=\"node3\" class=\"node\"><title>2</title>\n",
       "<polygon fill=\"none\" stroke=\"black\" points=\"317.5,-53 164.5,-53 164.5,-0 317.5,-0 317.5,-53\"/>\n",
       "<text text-anchor=\"middle\" x=\"241\" y=\"-37.8\" font-family=\"Times,serif\" font-size=\"14.00\">gini = 0.1091</text>\n",
       "<text text-anchor=\"middle\" x=\"241\" y=\"-22.8\" font-family=\"Times,serif\" font-size=\"14.00\">samples = 190</text>\n",
       "<text text-anchor=\"middle\" x=\"241\" y=\"-7.8\" font-family=\"Times,serif\" font-size=\"14.00\">value = [0.3146, 0.0193]</text>\n",
       "</g>\n",
       "<!-- 0&#45;&gt;2 -->\n",
       "<g id=\"edge2\" class=\"edge\"><title>0&#45;&gt;2</title>\n",
       "<path fill=\"none\" stroke=\"black\" d=\"M186.379,-88.9485C194.511,-79.8005 203.338,-69.8697 211.478,-60.7126\"/>\n",
       "<polygon fill=\"black\" stroke=\"black\" points=\"214.095,-63.0361 218.123,-53.2367 208.863,-58.3855 214.095,-63.0361\"/>\n",
       "<text text-anchor=\"middle\" x=\"219.591\" y=\"-74.4936\" font-family=\"Times,serif\" font-size=\"14.00\">False</text>\n",
       "</g>\n",
       "</g>\n",
       "</svg>\n"
      ],
      "text/plain": [
       "<graphviz.files.Source at 0x7fa78d5da050>"
      ]
     },
     "execution_count": 10,
     "metadata": {},
     "output_type": "execute_result"
    }
   ],
   "source": [
    "dot_data = tree.export_graphviz(hs[0], out_file=None) \n",
    "graph = graphviz.Source(dot_data)\n",
    "graph"
   ]
  },
  {
   "cell_type": "code",
   "execution_count": 11,
   "metadata": {},
   "outputs": [
    {
     "data": {
      "image/svg+xml": [
       "<?xml version=\"1.0\" encoding=\"UTF-8\" standalone=\"no\"?>\n",
       "<!DOCTYPE svg PUBLIC \"-//W3C//DTD SVG 1.1//EN\"\n",
       " \"http://www.w3.org/Graphics/SVG/1.1/DTD/svg11.dtd\">\n",
       "<!-- Generated by graphviz version 2.38.0 (20140413.2041)\n",
       " -->\n",
       "<!-- Title: Tree Pages: 1 -->\n",
       "<svg width=\"332pt\" height=\"165pt\"\n",
       " viewBox=\"0.00 0.00 332.00 165.00\" xmlns=\"http://www.w3.org/2000/svg\" xmlns:xlink=\"http://www.w3.org/1999/xlink\">\n",
       "<g id=\"graph0\" class=\"graph\" transform=\"scale(1 1) rotate(0) translate(4 161)\">\n",
       "<title>Tree</title>\n",
       "<polygon fill=\"white\" stroke=\"none\" points=\"-4,4 -4,-161 328,-161 328,4 -4,4\"/>\n",
       "<!-- 0 -->\n",
       "<g id=\"node1\" class=\"node\"><title>0</title>\n",
       "<polygon fill=\"none\" stroke=\"black\" points=\"238,-157 85,-157 85,-89 238,-89 238,-157\"/>\n",
       "<text text-anchor=\"middle\" x=\"161.5\" y=\"-141.8\" font-family=\"Times,serif\" font-size=\"14.00\">X[13] &lt;= 34.405</text>\n",
       "<text text-anchor=\"middle\" x=\"161.5\" y=\"-126.8\" font-family=\"Times,serif\" font-size=\"14.00\">gini = 0.4829</text>\n",
       "<text text-anchor=\"middle\" x=\"161.5\" y=\"-111.8\" font-family=\"Times,serif\" font-size=\"14.00\">samples = 569</text>\n",
       "<text text-anchor=\"middle\" x=\"161.5\" y=\"-96.8\" font-family=\"Times,serif\" font-size=\"14.00\">value = [0.5926, 0.4074]</text>\n",
       "</g>\n",
       "<!-- 1 -->\n",
       "<g id=\"node2\" class=\"node\"><title>1</title>\n",
       "<polygon fill=\"none\" stroke=\"black\" points=\"153,-53 0,-53 0,-0 153,-0 153,-53\"/>\n",
       "<text text-anchor=\"middle\" x=\"76.5\" y=\"-37.8\" font-family=\"Times,serif\" font-size=\"14.00\">gini = 0.4724</text>\n",
       "<text text-anchor=\"middle\" x=\"76.5\" y=\"-22.8\" font-family=\"Times,serif\" font-size=\"14.00\">samples = 380</text>\n",
       "<text text-anchor=\"middle\" x=\"76.5\" y=\"-7.8\" font-family=\"Times,serif\" font-size=\"14.00\">value = [0.2312, 0.3733]</text>\n",
       "</g>\n",
       "<!-- 0&#45;&gt;1 -->\n",
       "<g id=\"edge1\" class=\"edge\"><title>0&#45;&gt;1</title>\n",
       "<path fill=\"none\" stroke=\"black\" d=\"M131.771,-88.9485C123.543,-79.8005 114.61,-69.8697 106.374,-60.7126\"/>\n",
       "<polygon fill=\"black\" stroke=\"black\" points=\"108.939,-58.331 99.6494,-53.2367 103.735,-63.0123 108.939,-58.331\"/>\n",
       "<text text-anchor=\"middle\" x=\"98.3281\" y=\"-74.5018\" font-family=\"Times,serif\" font-size=\"14.00\">True</text>\n",
       "</g>\n",
       "<!-- 2 -->\n",
       "<g id=\"node3\" class=\"node\"><title>2</title>\n",
       "<polygon fill=\"none\" stroke=\"black\" points=\"324,-53 171,-53 171,-0 324,-0 324,-53\"/>\n",
       "<text text-anchor=\"middle\" x=\"247.5\" y=\"-37.8\" font-family=\"Times,serif\" font-size=\"14.00\">gini = 0.1578</text>\n",
       "<text text-anchor=\"middle\" x=\"247.5\" y=\"-22.8\" font-family=\"Times,serif\" font-size=\"14.00\">samples = 189</text>\n",
       "<text text-anchor=\"middle\" x=\"247.5\" y=\"-7.8\" font-family=\"Times,serif\" font-size=\"14.00\">value = [0.3613, 0.0341]</text>\n",
       "</g>\n",
       "<!-- 0&#45;&gt;2 -->\n",
       "<g id=\"edge2\" class=\"edge\"><title>0&#45;&gt;2</title>\n",
       "<path fill=\"none\" stroke=\"black\" d=\"M191.579,-88.9485C199.904,-79.8005 208.941,-69.8697 217.275,-60.7126\"/>\n",
       "<polygon fill=\"black\" stroke=\"black\" points=\"219.936,-62.9883 224.078,-53.2367 214.759,-58.2769 219.936,-62.9883\"/>\n",
       "<text text-anchor=\"middle\" x=\"225.254\" y=\"-74.509\" font-family=\"Times,serif\" font-size=\"14.00\">False</text>\n",
       "</g>\n",
       "</g>\n",
       "</svg>\n"
      ],
      "text/plain": [
       "<graphviz.files.Source at 0x7fa78d5da250>"
      ]
     },
     "execution_count": 11,
     "metadata": {},
     "output_type": "execute_result"
    }
   ],
   "source": [
    "dot_data = tree.export_graphviz(hs[4], out_file=None) \n",
    "graph = graphviz.Source(dot_data)\n",
    "graph"
   ]
  },
  {
   "cell_type": "code",
   "execution_count": 12,
   "metadata": {},
   "outputs": [
    {
     "data": {
      "image/svg+xml": [
       "<?xml version=\"1.0\" encoding=\"UTF-8\" standalone=\"no\"?>\n",
       "<!DOCTYPE svg PUBLIC \"-//W3C//DTD SVG 1.1//EN\"\n",
       " \"http://www.w3.org/Graphics/SVG/1.1/DTD/svg11.dtd\">\n",
       "<!-- Generated by graphviz version 2.38.0 (20140413.2041)\n",
       " -->\n",
       "<!-- Title: Tree Pages: 1 -->\n",
       "<svg width=\"332pt\" height=\"165pt\"\n",
       " viewBox=\"0.00 0.00 332.00 165.00\" xmlns=\"http://www.w3.org/2000/svg\" xmlns:xlink=\"http://www.w3.org/1999/xlink\">\n",
       "<g id=\"graph0\" class=\"graph\" transform=\"scale(1 1) rotate(0) translate(4 161)\">\n",
       "<title>Tree</title>\n",
       "<polygon fill=\"white\" stroke=\"none\" points=\"-4,4 -4,-161 328,-161 328,4 -4,4\"/>\n",
       "<!-- 0 -->\n",
       "<g id=\"node1\" class=\"node\"><title>0</title>\n",
       "<polygon fill=\"none\" stroke=\"black\" points=\"231.5,-157 91.5,-157 91.5,-89 231.5,-89 231.5,-157\"/>\n",
       "<text text-anchor=\"middle\" x=\"161.5\" y=\"-141.8\" font-family=\"Times,serif\" font-size=\"14.00\">X[21] &lt;= 20.225</text>\n",
       "<text text-anchor=\"middle\" x=\"161.5\" y=\"-126.8\" font-family=\"Times,serif\" font-size=\"14.00\">gini = 0.4878</text>\n",
       "<text text-anchor=\"middle\" x=\"161.5\" y=\"-111.8\" font-family=\"Times,serif\" font-size=\"14.00\">samples = 569</text>\n",
       "<text text-anchor=\"middle\" x=\"161.5\" y=\"-96.8\" font-family=\"Times,serif\" font-size=\"14.00\">value = [0.578, 0.422]</text>\n",
       "</g>\n",
       "<!-- 1 -->\n",
       "<g id=\"node2\" class=\"node\"><title>1</title>\n",
       "<polygon fill=\"none\" stroke=\"black\" points=\"153,-53 0,-53 0,-0 153,-0 153,-53\"/>\n",
       "<text text-anchor=\"middle\" x=\"76.5\" y=\"-37.8\" font-family=\"Times,serif\" font-size=\"14.00\">gini = 0.0587</text>\n",
       "<text text-anchor=\"middle\" x=\"76.5\" y=\"-22.8\" font-family=\"Times,serif\" font-size=\"14.00\">samples = 117</text>\n",
       "<text text-anchor=\"middle\" x=\"76.5\" y=\"-7.8\" font-family=\"Times,serif\" font-size=\"14.00\">value = [0.0044, 0.1423]</text>\n",
       "</g>\n",
       "<!-- 0&#45;&gt;1 -->\n",
       "<g id=\"edge1\" class=\"edge\"><title>0&#45;&gt;1</title>\n",
       "<path fill=\"none\" stroke=\"black\" d=\"M131.771,-88.9485C123.543,-79.8005 114.61,-69.8697 106.374,-60.7126\"/>\n",
       "<polygon fill=\"black\" stroke=\"black\" points=\"108.939,-58.331 99.6494,-53.2367 103.735,-63.0123 108.939,-58.331\"/>\n",
       "<text text-anchor=\"middle\" x=\"98.3281\" y=\"-74.5018\" font-family=\"Times,serif\" font-size=\"14.00\">True</text>\n",
       "</g>\n",
       "<!-- 2 -->\n",
       "<g id=\"node3\" class=\"node\"><title>2</title>\n",
       "<polygon fill=\"none\" stroke=\"black\" points=\"324,-53 171,-53 171,-0 324,-0 324,-53\"/>\n",
       "<text text-anchor=\"middle\" x=\"247.5\" y=\"-37.8\" font-family=\"Times,serif\" font-size=\"14.00\">gini = 0.4407</text>\n",
       "<text text-anchor=\"middle\" x=\"247.5\" y=\"-22.8\" font-family=\"Times,serif\" font-size=\"14.00\">samples = 452</text>\n",
       "<text text-anchor=\"middle\" x=\"247.5\" y=\"-7.8\" font-family=\"Times,serif\" font-size=\"14.00\">value = [0.5735, 0.2797]</text>\n",
       "</g>\n",
       "<!-- 0&#45;&gt;2 -->\n",
       "<g id=\"edge2\" class=\"edge\"><title>0&#45;&gt;2</title>\n",
       "<path fill=\"none\" stroke=\"black\" d=\"M191.579,-88.9485C199.904,-79.8005 208.941,-69.8697 217.275,-60.7126\"/>\n",
       "<polygon fill=\"black\" stroke=\"black\" points=\"219.936,-62.9883 224.078,-53.2367 214.759,-58.2769 219.936,-62.9883\"/>\n",
       "<text text-anchor=\"middle\" x=\"225.254\" y=\"-74.509\" font-family=\"Times,serif\" font-size=\"14.00\">False</text>\n",
       "</g>\n",
       "</g>\n",
       "</svg>\n"
      ],
      "text/plain": [
       "<graphviz.files.Source at 0x7fa7c83a5810>"
      ]
     },
     "execution_count": 12,
     "metadata": {},
     "output_type": "execute_result"
    }
   ],
   "source": [
    "dot_data = tree.export_graphviz(hs[8], out_file=None) \n",
    "graph = graphviz.Source(dot_data)\n",
    "graph"
   ]
  },
  {
   "cell_type": "code",
   "execution_count": null,
   "metadata": {
    "collapsed": true
   },
   "outputs": [],
   "source": []
  }
 ],
 "metadata": {
  "kernelspec": {
   "display_name": "Python 2",
   "language": "python",
   "name": "python2"
  },
  "language_info": {
   "codemirror_mode": {
    "name": "ipython",
    "version": 2
   },
   "file_extension": ".py",
   "mimetype": "text/x-python",
   "name": "python",
   "nbconvert_exporter": "python",
   "pygments_lexer": "ipython2",
   "version": "2.7.12"
  }
 },
 "nbformat": 4,
 "nbformat_minor": 2
}
