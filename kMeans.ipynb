{
 "cells": [
  {
   "cell_type": "markdown",
   "metadata": {},
   "source": [
    "# Use k-Means to cluster IRIS dataset"
   ]
  },
  {
   "cell_type": "code",
   "execution_count": 1,
   "metadata": {
    "collapsed": true
   },
   "outputs": [],
   "source": [
    "from sklearn.datasets import load_iris\n",
    "import numpy as np"
   ]
  },
  {
   "cell_type": "markdown",
   "metadata": {},
   "source": [
    "## Load Data"
   ]
  },
  {
   "cell_type": "code",
   "execution_count": 2,
   "metadata": {
    "collapsed": true
   },
   "outputs": [],
   "source": [
    "d = load_iris()"
   ]
  },
  {
   "cell_type": "code",
   "execution_count": 3,
   "metadata": {
    "collapsed": false
   },
   "outputs": [
    {
     "data": {
      "text/plain": [
       "(150, 4)"
      ]
     },
     "execution_count": 3,
     "metadata": {},
     "output_type": "execute_result"
    }
   ],
   "source": [
    "d.data.shape"
   ]
  },
  {
   "cell_type": "code",
   "execution_count": 4,
   "metadata": {
    "collapsed": false
   },
   "outputs": [
    {
     "data": {
      "text/plain": [
       "array([0, 0, 0, 0, 0, 0, 0, 0, 0, 0, 0, 0, 0, 0, 0, 0, 0, 0, 0, 0, 0, 0, 0,\n",
       "       0, 0, 0, 0, 0, 0, 0, 0, 0, 0, 0, 0, 0, 0, 0, 0, 0, 0, 0, 0, 0, 0, 0,\n",
       "       0, 0, 0, 0, 1, 1, 1, 1, 1, 1, 1, 1, 1, 1, 1, 1, 1, 1, 1, 1, 1, 1, 1,\n",
       "       1, 1, 1, 1, 1, 1, 1, 1, 1, 1, 1, 1, 1, 1, 1, 1, 1, 1, 1, 1, 1, 1, 1,\n",
       "       1, 1, 1, 1, 1, 1, 1, 1, 2, 2, 2, 2, 2, 2, 2, 2, 2, 2, 2, 2, 2, 2, 2,\n",
       "       2, 2, 2, 2, 2, 2, 2, 2, 2, 2, 2, 2, 2, 2, 2, 2, 2, 2, 2, 2, 2, 2, 2,\n",
       "       2, 2, 2, 2, 2, 2, 2, 2, 2, 2, 2, 2])"
      ]
     },
     "execution_count": 4,
     "metadata": {},
     "output_type": "execute_result"
    }
   ],
   "source": [
    "d.target"
   ]
  },
  {
   "cell_type": "markdown",
   "metadata": {},
   "source": [
    "## Sample Data"
   ]
  },
  {
   "cell_type": "code",
   "execution_count": 5,
   "metadata": {
    "collapsed": false
   },
   "outputs": [
    {
     "data": {
      "text/plain": [
       "array([0, 0, 0, 0, 0, 1, 1, 1, 1, 1, 2, 2, 2, 2, 2])"
      ]
     },
     "execution_count": 5,
     "metadata": {},
     "output_type": "execute_result"
    }
   ],
   "source": [
    "idx = list(range(5))+list(range(50,55))+list(range(100,105))\n",
    "d_data = d.data[idx,2:] # only select 15 samples and two features \n",
    "d_target = d.target[idx]\n",
    "d_target # choose 5 from each class "
   ]
  },
  {
   "cell_type": "markdown",
   "metadata": {},
   "source": [
    "## Cluster Algorithm"
   ]
  },
  {
   "cell_type": "code",
   "execution_count": 6,
   "metadata": {
    "collapsed": false
   },
   "outputs": [
    {
     "name": "stdout",
     "output_type": "stream",
     "text": [
      "k-Means: k=3, max_iter: 100, tol:1e-20, starting_points=[5 4 6]\n",
      "Epoch: 0,  C=[{5, 7, 10, 11, 12, 13, 14}, {0, 1, 2, 3, 4}, {8, 9, 6}]\n",
      "Epoch: 1,  C=[{10, 11, 12, 13, 14}, {0, 1, 2, 3, 4}, {8, 9, 5, 6, 7}]\n",
      "Epoch: 2,  C=[{10, 11, 12, 13, 14}, {0, 1, 2, 3, 4}, {8, 9, 5, 6, 7}]\n"
     ]
    }
   ],
   "source": [
    "def MSEloss(x, m):\n",
    "    \"\"\"\n",
    "    x and m can be a scalar or a matrix\n",
    "    \"\"\"\n",
    "    return np.sum((x-m)**2)\n",
    "\n",
    "def kMeans(data, k=3, max_iter=100, tol=1e-20, diff_type='max'):\n",
    "    \"\"\"\n",
    "    k: number of group\n",
    "    max_iter: max allowed number of iteration\n",
    "    tol: under this tolerance, regard the differences are the same\n",
    "    diff_type:  'max': max_diff or 'mean': mean_diff is restricted within tol\n",
    "    \"\"\"\n",
    "    loss = MSEloss\n",
    "    N, dim = data.shape\n",
    "    idx = np.random.choice(N,k,replace=False) \n",
    "    print ('k-Means: k={}, max_iter: {}, tol:{}, starting_points={}'   \\\n",
    "           .format(k, max_iter, tol, idx ))\n",
    "    m = data[idx].copy()\n",
    "    m_new = m.copy() #initial value\n",
    "    it = 0 #initial\n",
    "    C = None #initial\n",
    "    boo = True\n",
    "    while ( boo ):\n",
    "        m = m_new.copy() \n",
    "        C = [set({}) for i in range(k)] # empty set for each class\n",
    "        for j in range(N): # each sample\n",
    "            x_j = data[j] \n",
    "            d_ji = [loss(x_j,m[i]) for i in range(k)] # distant to each class\n",
    "            lambda_j = np.argmin(d_ji) # assign to which class\n",
    "            C[lambda_j].add(j) # assign j to the class\n",
    "        diff = []\n",
    "        for i in range(k):\n",
    "            _m_new = np.mean([data[j] for j in C[i]],axis=0)# new m for class i\n",
    "            _diff = np.abs(_m_new - m[i])\n",
    "            _diff_ = np.max(_diff) if diff_type=='max' else mean_diff\n",
    "            diff.append(_diff_)\n",
    "            if ( _diff_ > tol):\n",
    "                m_new[i] = _m_new\n",
    "            else:\n",
    "                m_new[i] = m[i]\n",
    "        \n",
    "        print ('Epoch: {},  C={}'.format(it, C))\n",
    "        it+=1\n",
    "        boo = it < max_iter and (m_new != m).any()\n",
    "    return C\n",
    "                 \n",
    "C = kMeans(d_data, k=3)    "
   ]
  },
  {
   "cell_type": "markdown",
   "metadata": {},
   "source": [
    "## Plot"
   ]
  },
  {
   "cell_type": "code",
   "execution_count": 7,
   "metadata": {
    "collapsed": true
   },
   "outputs": [],
   "source": [
    "%matplotlib inline\n",
    "import matplotlib.pyplot as plt"
   ]
  },
  {
   "cell_type": "code",
   "execution_count": 8,
   "metadata": {
    "collapsed": true
   },
   "outputs": [],
   "source": [
    "c_ = ['r', 'g', 'b']\n",
    "l_ = ['group_{}'.format(i+1) for i in range(3)]"
   ]
  },
  {
   "cell_type": "code",
   "execution_count": 9,
   "metadata": {
    "collapsed": false
   },
   "outputs": [
    {
     "data": {
      "image/png": "[encoded data removed]",
      "text/plain": [
       "<matplotlib.figure.Figure at 0x271ff28b5c0>"
      ]
     },
     "metadata": {},
     "output_type": "display_data"
    }
   ],
   "source": [
    "for i,g in enumerate(C):\n",
    "    plt.scatter(*zip(*d_data[list(g)]), c=c_[i],label=l_[i])\n",
    "    plt.legend(loc='lower right')"
   ]
  },
  {
   "cell_type": "code",
   "execution_count": null,
   "metadata": {
    "collapsed": true
   },
   "outputs": [],
   "source": []
  }
 ],
 "metadata": {
  "anaconda-cloud": {},
  "kernelspec": {
   "display_name": "Python [conda env:Anaconda3]",
   "language": "python",
   "name": "conda-env-Anaconda3-py"
  },
  "language_info": {
   "codemirror_mode": {
    "name": "ipython",
    "version": 3
   },
   "file_extension": ".py",
   "mimetype": "text/x-python",
   "name": "python",
   "nbconvert_exporter": "python",
   "pygments_lexer": "ipython3",
   "version": "3.5.2"
  }
 },
 "nbformat": 4,
 "nbformat_minor": 1
}
