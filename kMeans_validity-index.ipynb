{
 "cells": [
  {
   "cell_type": "code",
   "execution_count": 1,
   "metadata": {
    "collapsed": true
   },
   "outputs": [],
   "source": [
    "# 西瓜書 p.198\n",
    "import numpy as np"
   ]
  },
  {
   "cell_type": "code",
   "execution_count": 2,
   "metadata": {
    "collapsed": true
   },
   "outputs": [],
   "source": [
    "# distant fn\n",
    "class Dist:   \n",
    "    def Minkowski(x1, x2, p=2):\n",
    "        \"\"\"\n",
    "        x1, x2 can be a scalar or a matrix\n",
    "        p ia an integer\n",
    "        return a scalar\n",
    "        \"\"\"\n",
    "        return np.sum(np.abs(x1-x2)**p)**float(1/p)\n",
    "        \n",
    "    def Euclidean(x1, x2):\n",
    "        return Dist.Minkowski(x1, x2, p=2)\n",
    "    \n",
    "    def Manhattan(x1, x2):\n",
    "        return Dist.Minkowski(x1, x2, p=1)\n",
    "    "
   ]
  },
  {
   "cell_type": "markdown",
   "metadata": {},
   "source": [
    "# Use k-Means to cluster IRIS dataset"
   ]
  },
  {
   "cell_type": "code",
   "execution_count": 3,
   "metadata": {
    "collapsed": true
   },
   "outputs": [],
   "source": [
    "from sklearn.datasets import load_iris"
   ]
  },
  {
   "cell_type": "markdown",
   "metadata": {},
   "source": [
    "## Load Data"
   ]
  },
  {
   "cell_type": "code",
   "execution_count": 4,
   "metadata": {
    "collapsed": true
   },
   "outputs": [],
   "source": [
    "d = load_iris()"
   ]
  },
  {
   "cell_type": "code",
   "execution_count": 5,
   "metadata": {
    "collapsed": false
   },
   "outputs": [
    {
     "data": {
      "text/plain": [
       "(150, 4)"
      ]
     },
     "execution_count": 5,
     "metadata": {},
     "output_type": "execute_result"
    }
   ],
   "source": [
    "d.data.shape"
   ]
  },
  {
   "cell_type": "code",
   "execution_count": 6,
   "metadata": {
    "collapsed": false
   },
   "outputs": [
    {
     "data": {
      "text/plain": [
       "array([0, 0, 0, 0, 0, 0, 0, 0, 0, 0, 0, 0, 0, 0, 0, 0, 0, 0, 0, 0, 0, 0, 0,\n",
       "       0, 0, 0, 0, 0, 0, 0, 0, 0, 0, 0, 0, 0, 0, 0, 0, 0, 0, 0, 0, 0, 0, 0,\n",
       "       0, 0, 0, 0, 1, 1, 1, 1, 1, 1, 1, 1, 1, 1, 1, 1, 1, 1, 1, 1, 1, 1, 1,\n",
       "       1, 1, 1, 1, 1, 1, 1, 1, 1, 1, 1, 1, 1, 1, 1, 1, 1, 1, 1, 1, 1, 1, 1,\n",
       "       1, 1, 1, 1, 1, 1, 1, 1, 2, 2, 2, 2, 2, 2, 2, 2, 2, 2, 2, 2, 2, 2, 2,\n",
       "       2, 2, 2, 2, 2, 2, 2, 2, 2, 2, 2, 2, 2, 2, 2, 2, 2, 2, 2, 2, 2, 2, 2,\n",
       "       2, 2, 2, 2, 2, 2, 2, 2, 2, 2, 2, 2])"
      ]
     },
     "execution_count": 6,
     "metadata": {},
     "output_type": "execute_result"
    }
   ],
   "source": [
    "d.target"
   ]
  },
  {
   "cell_type": "markdown",
   "metadata": {},
   "source": [
    "## Sample Data"
   ]
  },
  {
   "cell_type": "code",
   "execution_count": 7,
   "metadata": {
    "collapsed": false
   },
   "outputs": [
    {
     "data": {
      "text/plain": [
       "array([0, 0, 0, 0, 0, 1, 1, 1, 1, 1, 2, 2, 2, 2, 2])"
      ]
     },
     "execution_count": 7,
     "metadata": {},
     "output_type": "execute_result"
    }
   ],
   "source": [
    "idx = list(range(5))+list(range(50,55))+list(range(100,105))\n",
    "d_data = d.data[idx,2:] # only select 15 samples and two features \n",
    "d_target = d.target[idx]\n",
    "d_target # choose 5 from each class "
   ]
  },
  {
   "cell_type": "markdown",
   "metadata": {},
   "source": [
    "## Cluster Algorithm"
   ]
  },
  {
   "cell_type": "code",
   "execution_count": 8,
   "metadata": {
    "collapsed": false
   },
   "outputs": [
    {
     "name": "stdout",
     "output_type": "stream",
     "text": [
      "k-Means: k=3, max_iter: 100, tol:1e-20, starting_points=[ 9  6 12]\n",
      "Epoch: 0,  C=[{9, 11, 5, 7}, {0, 1, 2, 3, 4, 6, 8}, {10, 12, 13, 14}]\n",
      "Epoch: 1,  C=[{5, 6, 7, 8, 9, 11}, {0, 1, 2, 3, 4}, {10, 12, 13, 14}]\n",
      "Epoch: 2,  C=[{5, 6, 7, 8, 9, 11}, {0, 1, 2, 3, 4}, {10, 12, 13, 14}]\n"
     ]
    }
   ],
   "source": [
    "def kMeans(data, k=3, max_iter=100, tol=1e-20, diff_type='max', loss = Dist.Euclidean):\n",
    "    \"\"\"\n",
    "    k: number of group\n",
    "    max_iter: max allowed number of iteration\n",
    "    tol: under this tolerance, regard the differences are the same\n",
    "    diff_type:  'max': max_diff or 'mean': mean_diff is restricted within tol\n",
    "    \"\"\"\n",
    "    N = data.shape[0]\n",
    "    idx = np.random.choice(N,k,replace=False) \n",
    "    print ('k-Means: k={}, max_iter: {}, tol:{}, starting_points={}'   \\\n",
    "           .format(k, max_iter, tol, idx ))\n",
    "    m = data[idx].copy()\n",
    "    m_new = m.copy() #initial value\n",
    "    it = 0 #initial\n",
    "    C = None #initial\n",
    "    boo = True\n",
    "    while ( boo ):\n",
    "        m = m_new.copy() \n",
    "        C = [set({}) for i in range(k)] # empty set for each class\n",
    "        for j in range(N): # each sample\n",
    "            x_j = data[j] \n",
    "            d_ji = [loss(x_j,m[i]) for i in range(k)] # distant to each class\n",
    "            lambda_j = np.argmin(d_ji) # assign to which class\n",
    "            C[lambda_j].add(j) # assign j to the class\n",
    "        diff = []\n",
    "        for i in range(k):\n",
    "            _m_new = np.mean([data[j] for j in C[i]],axis=0)# new m for class i\n",
    "            _diff = np.abs(_m_new - m[i])\n",
    "            _diff_ = np.max(_diff) if diff_type=='max' else mean_diff\n",
    "            diff.append(_diff_)\n",
    "            if ( _diff_ > tol):\n",
    "                m_new[i] = _m_new\n",
    "            else:\n",
    "                m_new[i] = m[i]\n",
    "        \n",
    "        print ('Epoch: {},  C={}'.format(it, C))\n",
    "        it+=1\n",
    "        boo = it < max_iter and (m_new != m).any()\n",
    "    return C\n",
    "\n",
    "k = 3\n",
    "C_cluster = kMeans(d_data, k=k, loss=Dist.Euclidean)    "
   ]
  },
  {
   "cell_type": "code",
   "execution_count": 9,
   "metadata": {
    "collapsed": false
   },
   "outputs": [],
   "source": [
    "default_C = np.array_split(range(15),3)"
   ]
  },
  {
   "cell_type": "code",
   "execution_count": 10,
   "metadata": {
    "collapsed": false
   },
   "outputs": [
    {
     "data": {
      "text/plain": [
       "[{5, 6, 7, 8, 9}, {0, 1, 2, 3, 4}, {10, 11, 12, 13, 14}]"
      ]
     },
     "execution_count": 10,
     "metadata": {},
     "output_type": "execute_result"
    }
   ],
   "source": [
    "C_ref = []\n",
    "for i in range(k):\n",
    "    c = np.zeros(shape=k)\n",
    "    for j in C_cluster[i]:\n",
    "        c[d_target[j]] += 1\n",
    "    L = np.argmax(c)\n",
    "    C_ref.append(set(default_C[L]) )\n",
    "C_ref"
   ]
  },
  {
   "cell_type": "markdown",
   "metadata": {},
   "source": [
    "# Calculate index"
   ]
  },
  {
   "cell_type": "code",
   "execution_count": 11,
   "metadata": {
    "collapsed": false
   },
   "outputs": [],
   "source": [
    "# external index\n",
    "class ExtIn_fns: \n",
    "    \n",
    "    fns_list = [ 'Jaccard', 'FM', 'RI' ]\n",
    "    def build_L_from_C(C_set_list, m):\n",
    "        assert len(C_set_list) <= m\n",
    "        L_list = list(range(m))\n",
    "        for Label, C_set in enumerate(C_set_list): \n",
    "            for i in C_set:\n",
    "                L_list[i] = Label  \n",
    "        return L_list\n",
    "\n",
    "    def cal_abcd(D, C_cluster, C_ref):\n",
    "        m = D.shape[0]\n",
    "        #k, s = len(C_cluster), len(C_ref)\n",
    "        L_cluster, L_ref = ExtIn_fns.build_L_from_C(C_cluster,m), ExtIn_fns.build_L_from_C(C_ref,m)\n",
    "        a, b, c, d = 0, 0, 0, 0\n",
    "        for i in range(m):\n",
    "            #x_i = D[i]\n",
    "            l_i_cls = L_cluster[i]\n",
    "            l_i_ref = L_ref[i]\n",
    "            for j in range(i+1, m):\n",
    "                #x_j = D[j]\n",
    "                l_j_cls = L_cluster[j]\n",
    "                l_j_ref = L_ref[j]\n",
    "                if l_i_cls == l_j_cls:\n",
    "                    if l_i_ref == l_j_ref:\n",
    "                        a += 1\n",
    "                    else: \n",
    "                        b += 1\n",
    "                else:\n",
    "                    if l_i_ref == l_j_ref:\n",
    "                        c += 1\n",
    "                    else: \n",
    "                        d += 1\n",
    "        assert a+b+c+d == m*(m-1)/2\n",
    "        return a,b,c,d\n",
    "\n",
    "    def Jaccard(a,b,c,d):\n",
    "        assert a+b+c > 0\n",
    "        return float(a)/(a+b+c)\n",
    "\n",
    "    def FM(a,b,c,d):\n",
    "        assert a+b > 0 and a+c > 0\n",
    "        return np.sqrt(float(a)/(a+b)*float(a)/(a+c)) \n",
    "\n",
    "    def RI(a,b,c,d):\n",
    "        assert a+b+c+d > 0\n",
    "        return 2*float(a+d)/((a+b+c+d)*2) # (a+b+c+d)*2 == m*(m-1)\n",
    "\n",
    "class ExternalIndex():\n",
    "    \n",
    "    score = {}\n",
    "    fns = ExtIn_fns\n",
    "    \n",
    "    def __init__(self, D, C_cluster, C_ref, index='all'):\n",
    "        \"\"\"\n",
    "        D = {x_1, x_2, ..., x_m}\n",
    "        C_cluster = [ C_1 = set({...}), ..., C_k = set({...}) ]\n",
    "        C_ref = [ C_1* = set({...}), ..., C_s* = set({...}) ]\n",
    "        L_cluster = [ l_1 , l_2 , ...., l_m ]\n",
    "        L_ref = [ l_1 , l_2 , ...., l_m ]\n",
    "        \"\"\"\n",
    "        if hasattr(self.fns, index):\n",
    "            fn = getattr(self.fns, index)\n",
    "            score = self.cal_score(D, C_cluster, C_ref, fn)\n",
    "            self.score.update({ index : score })\n",
    "        elif index=='all':\n",
    "            for index_name in self.fns.fns_list:\n",
    "                fn = getattr(self.fns, index_name)\n",
    "                score = self.cal_score(D, C_cluster, C_ref, fn)\n",
    "                self.score.update({ index_name : score })                \n",
    "        else:\n",
    "            print(\"No this fn [%s] !!\" % index)\n",
    "        return\n",
    "            \n",
    "    def cal_score(self, D, C_cluster, C_ref, fn):\n",
    "        a,b,c,d = self.fns.cal_abcd(D, C_cluster, C_ref)\n",
    "        return fn(a,b,c,d) \n",
    "        \n",
    "    def __print__(self):\n",
    "        for index_name in self.fns.fns_list:\n",
    "            print(\"{} score = {:.2f}\".format(index_name, self.score[index_name]))\n",
    "    "
   ]
  },
  {
   "cell_type": "code",
   "execution_count": 12,
   "metadata": {
    "collapsed": false
   },
   "outputs": [
    {
     "name": "stdout",
     "output_type": "stream",
     "text": [
      "Jaccard score = 0.74\n",
      "FM score = 0.85\n",
      "RI score = 0.91\n"
     ]
    }
   ],
   "source": [
    "exi = ExternalIndex(d_data, C_cluster, C_ref)\n",
    "exi.__print__()"
   ]
  },
  {
   "cell_type": "code",
   "execution_count": 13,
   "metadata": {
    "collapsed": false
   },
   "outputs": [],
   "source": [
    "# internal index\n",
    "class IntIn_fns: \n",
    "    \n",
    "    fns_list = [ 'DBI', 'DI' ]\n",
    "    def avgC(D, C, dist_fn):\n",
    "        \"\"\"\n",
    "        the avg dist in cluster C\n",
    "        C = set({ ... })\n",
    "        \"\"\"\n",
    "        assert type(D) == np.ndarray or type(D) == list\n",
    "        #m = D.shape[0]\n",
    "        assert type(C) == set or type(C) == list \n",
    "        n = len(C)\n",
    "        assert n > 1\n",
    "        C_list = list(C) # 'set' to 'list' for iteration\n",
    "        sum_dist = 0\n",
    "        for i in range(n):\n",
    "            for j in range(i+1,n):\n",
    "                #print(i, j )\n",
    "                #print(C_list[i],C_list[j] )\n",
    "                #print(D[C_list[i]],D[C_list[j]] )\n",
    "                sum_dist += dist_fn(D[C_list[i]],D[C_list[j]])  \n",
    "        return float(2)/n/(n-1)*sum_dist\n",
    "    \n",
    "    def diamC(D, C, dist_fn):  \n",
    "        \"\"\"\n",
    "        the max dist in cluster C\n",
    "        C = set({ ... })\n",
    "        \"\"\"\n",
    "        assert type(D) == np.ndarray or type(D) == list\n",
    "        #m = D.shape[0]\n",
    "        assert type(C) == set or type(C) == list\n",
    "        n = len(C)\n",
    "        assert n > 1\n",
    "        C_list = list(C) # 'set' to 'list' for iteration\n",
    "        max_dist = 0\n",
    "        for i in range(n):\n",
    "            for j in range(i+1,n):\n",
    "                dist = dist_fn(D[C_list[i]],D[C_list[j]]) \n",
    "                if (dist>max_dist):\n",
    "                    max_dist = dist  \n",
    "        return max_dist \n",
    "    \n",
    "    def d_min(D, C_i, C_j, dist_fn):  \n",
    "        \"\"\"\n",
    "        the min dist between cluster C_i and C_j\n",
    "        C_i = set({ ... })\n",
    "        \"\"\"\n",
    "        assert type(D) == np.ndarray or type(D) == list\n",
    "        #m = D.shape[0]\n",
    "        assert type(C_i) == set or type(C_i) == list\n",
    "        assert type(C_j) == set or type(C_j) == list\n",
    "        n_i, n_j = len(C_i) , len(C_j)\n",
    "        C_i_list, C_j_list = list(C_i), list(C_j) # 'set' to 'list' for iteration\n",
    "        min_dist = np.inf\n",
    "        for i in range(n_i):\n",
    "            for j in range(n_j):\n",
    "                dist = dist_fn(D[C_i_list[i]],D[C_j_list[j]]) \n",
    "                if (dist<min_dist):\n",
    "                    min_dist = dist  \n",
    "        return min_dist \n",
    "    \n",
    "    def d_cen(D, C_i, C_j, dist_fn):  \n",
    "        \"\"\"\n",
    "        the dist between mean of cluster C_i and mean ofC_j\n",
    "        C_i = set({ ... })\n",
    "        \"\"\"\n",
    "        assert type(D) == np.ndarray or type(D) == list\n",
    "        #m = D.shape[0]\n",
    "        assert type(C_i) == set or type(C_i) == list\n",
    "        assert type(C_j) == set or type(C_j) == list\n",
    "        #n_i, n_j = len(C_i) , len(C_j)\n",
    "        C_i_list, C_j_list = list(C_i), list(C_j) # 'set' to 'list' \n",
    "        #print(C_i_list, C_j_list)\n",
    "        mu_i = np.mean( D[C_i_list], axis=0)\n",
    "        mu_j = np.mean( D[C_j_list], axis=0)\n",
    "        #print(mu_i, mu_j)\n",
    "        return dist_fn(mu_i, mu_j)   \n",
    "\n",
    "    def DBI(D, C_cluster, dist_fn): # smaller is better\n",
    "        m = D.shape[0]\n",
    "        k = len(C_cluster)\n",
    "        assert k > 0 and m >= k\n",
    "        sum_max = 0\n",
    "        for i in range(k):\n",
    "            max_ = 0\n",
    "            for j in range(k): \n",
    "                if  j != i: \n",
    "                    a = IntIn_fns.avgC(D, C_cluster[i], dist_fn)\n",
    "                    b = IntIn_fns.avgC(D, C_cluster[j], dist_fn)\n",
    "                    c = IntIn_fns.d_cen(D, C_cluster[i], C_cluster[j], dist_fn)\n",
    "                    assert c > 0\n",
    "                    ind = (a+b)/c\n",
    "                    if  ind > max_:\n",
    "                        max_ = ind\n",
    "            sum_max += max_\n",
    "        return float(sum_max)/float(k) \n",
    "                    \n",
    "    def DI(D, C_cluster, dist_fn): # larger is better\n",
    "        m = D.shape[0]\n",
    "        k = len(C_cluster)\n",
    "        assert k > 0 and m >= k\n",
    "        min_ = np.inf \n",
    "        for i in range(k):\n",
    "            _min_ = np.inf\n",
    "            for j in range(k): \n",
    "                if  j != i: \n",
    "                    a = IntIn_fns.d_min(D, C_cluster[i], C_cluster[j], dist_fn)\n",
    "                    _max_ = 0\n",
    "                    for l in range(k):\n",
    "                        v = IntIn_fns.diamC(D, C_cluster[l], dist_fn)\n",
    "                        if v > _max_:\n",
    "                            _max_ = v\n",
    "                    assert _max_ > 0\n",
    "                    vv = float(a)/float(_max_)\n",
    "                    if vv < _min_:\n",
    "                        _min_ = vv\n",
    "            assert _min_ < np.inf\n",
    "            if _min_ < min_ :\n",
    "                min_ = _min_\n",
    "        assert min_ < np.inf\n",
    "        return float(min_)\n",
    "    \n",
    "class InternalIndex():\n",
    "    \n",
    "    score = {}\n",
    "    fns = IntIn_fns\n",
    "    \n",
    "    def __init__(self, D, C_cluster, dist_fn=Dist.Euclidean, index='all'):\n",
    "        \"\"\"\n",
    "        D = {x_1, x_2, ..., x_m}\n",
    "        C_cluster = [ C_1 = set({...}), ..., C_k = set({...}) ]\n",
    "        L_cluster = [ l_1 , l_2 , ...., l_m ]\n",
    "        \"\"\"\n",
    "        if hasattr(self.fns, index):\n",
    "            fn = getattr(self.fns, index)\n",
    "            score = self.cal_score(D, C_cluster, dist_fn, fn)\n",
    "            self.score.update({ index : score })\n",
    "        elif index=='all':\n",
    "            for index_name in self.fns.fns_list:\n",
    "                fn = getattr(self.fns, index_name)\n",
    "                score = self.cal_score(D, C_cluster, dist_fn, fn)\n",
    "                self.score.update({ index_name : score })                \n",
    "        else:\n",
    "            print(\"No this fn [%s] !!\" % index)\n",
    "        return\n",
    "            \n",
    "    def cal_score(self, D, C_cluster, dist_fn, fn):\n",
    "        return fn(D, C_cluster, dist_fn)\n",
    "        \n",
    "    def __print__(self):\n",
    "        for index_name in self.fns.fns_list:\n",
    "            print(\"{} score = {:.2f}\".format(index_name, self.score[index_name]))            \n",
    "    \n"
   ]
  },
  {
   "cell_type": "code",
   "execution_count": 14,
   "metadata": {
    "collapsed": false
   },
   "outputs": [
    {
     "name": "stdout",
     "output_type": "stream",
     "text": [
      "DBI score = 0.53\n",
      "DI score = 0.41\n"
     ]
    }
   ],
   "source": [
    "ini = InternalIndex(d_data, C_cluster)\n",
    "ini.__print__()"
   ]
  },
  {
   "cell_type": "markdown",
   "metadata": {},
   "source": [
    "## Plot"
   ]
  },
  {
   "cell_type": "code",
   "execution_count": 15,
   "metadata": {
    "collapsed": true
   },
   "outputs": [],
   "source": [
    "%matplotlib inline\n",
    "import matplotlib.pyplot as plt"
   ]
  },
  {
   "cell_type": "code",
   "execution_count": 16,
   "metadata": {
    "collapsed": true
   },
   "outputs": [],
   "source": [
    "c_ = ['r', 'g', 'b']\n",
    "l_ = ['group_{}'.format(i+1) for i in range(3)]"
   ]
  },
  {
   "cell_type": "code",
   "execution_count": 17,
   "metadata": {
    "collapsed": false
   },
   "outputs": [
    {
     "ename": "NameError",
     "evalue": "name 'C' is not defined",
     "output_type": "error",
     "traceback": [
      "\u001b[0;31m---------------------------------------------------------------------------\u001b[0m",
      "\u001b[0;31mNameError\u001b[0m                                 Traceback (most recent call last)",
      "\u001b[0;32m<ipython-input-17-6dc08c92c160>\u001b[0m in \u001b[0;36m<module>\u001b[0;34m()\u001b[0m\n\u001b[0;32m----> 1\u001b[0;31m \u001b[1;32mfor\u001b[0m \u001b[0mi\u001b[0m\u001b[1;33m,\u001b[0m\u001b[0mg\u001b[0m \u001b[1;32min\u001b[0m \u001b[0menumerate\u001b[0m\u001b[1;33m(\u001b[0m\u001b[0mC\u001b[0m\u001b[1;33m)\u001b[0m\u001b[1;33m:\u001b[0m\u001b[1;33m\u001b[0m\u001b[0m\n\u001b[0m\u001b[1;32m      2\u001b[0m     \u001b[0mplt\u001b[0m\u001b[1;33m.\u001b[0m\u001b[0mscatter\u001b[0m\u001b[1;33m(\u001b[0m\u001b[1;33m*\u001b[0m\u001b[0mzip\u001b[0m\u001b[1;33m(\u001b[0m\u001b[1;33m*\u001b[0m\u001b[0md_data\u001b[0m\u001b[1;33m[\u001b[0m\u001b[0mlist\u001b[0m\u001b[1;33m(\u001b[0m\u001b[0mg\u001b[0m\u001b[1;33m)\u001b[0m\u001b[1;33m]\u001b[0m\u001b[1;33m)\u001b[0m\u001b[1;33m,\u001b[0m \u001b[0mc\u001b[0m\u001b[1;33m=\u001b[0m\u001b[0mc_\u001b[0m\u001b[1;33m[\u001b[0m\u001b[0mi\u001b[0m\u001b[1;33m]\u001b[0m\u001b[1;33m,\u001b[0m\u001b[0mlabel\u001b[0m\u001b[1;33m=\u001b[0m\u001b[0ml_\u001b[0m\u001b[1;33m[\u001b[0m\u001b[0mi\u001b[0m\u001b[1;33m]\u001b[0m\u001b[1;33m)\u001b[0m\u001b[1;33m\u001b[0m\u001b[0m\n\u001b[1;32m      3\u001b[0m     \u001b[0mplt\u001b[0m\u001b[1;33m.\u001b[0m\u001b[0mlegend\u001b[0m\u001b[1;33m(\u001b[0m\u001b[0mloc\u001b[0m\u001b[1;33m=\u001b[0m\u001b[1;34m'lower right'\u001b[0m\u001b[1;33m)\u001b[0m\u001b[1;33m\u001b[0m\u001b[0m\n",
      "\u001b[0;31mNameError\u001b[0m: name 'C' is not defined"
     ]
    }
   ],
   "source": [
    "for i,g in enumerate(C):\n",
    "    plt.scatter(*zip(*d_data[list(g)]), c=c_[i],label=l_[i])\n",
    "    plt.legend(loc='lower right')"
   ]
  },
  {
   "cell_type": "code",
   "execution_count": null,
   "metadata": {
    "collapsed": true
   },
   "outputs": [],
   "source": []
  }
 ],
 "metadata": {
  "anaconda-cloud": {},
  "kernelspec": {
   "display_name": "Python [conda env:Anaconda3]",
   "language": "python",
   "name": "conda-env-Anaconda3-py"
  },
  "language_info": {
   "codemirror_mode": {
    "name": "ipython",
    "version": 3
   },
   "file_extension": ".py",
   "mimetype": "text/x-python",
   "name": "python",
   "nbconvert_exporter": "python",
   "pygments_lexer": "ipython3",
   "version": "3.5.2"
  }
 },
 "nbformat": 4,
 "nbformat_minor": 1
}
